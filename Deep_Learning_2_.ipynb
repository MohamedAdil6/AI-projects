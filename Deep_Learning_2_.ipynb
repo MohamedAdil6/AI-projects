{
  "nbformat": 4,
  "nbformat_minor": 0,
  "metadata": {
    "colab": {
      "provenance": [],
      "authorship_tag": "ABX9TyPnIhmd+g9ArGAgVAEUXy0I",
      "include_colab_link": true
    },
    "kernelspec": {
      "name": "python3",
      "display_name": "Python 3"
    },
    "language_info": {
      "name": "python"
    }
  },
  "cells": [
    {
      "cell_type": "markdown",
      "metadata": {
        "id": "view-in-github",
        "colab_type": "text"
      },
      "source": [
        "<a href=\"https://colab.research.google.com/github/MohamedAdil6/AI-projects/blob/main/Deep_Learning_2_.ipynb\" target=\"_parent\"><img src=\"https://colab.research.google.com/assets/colab-badge.svg\" alt=\"Open In Colab\"/></a>"
      ]
    },
    {
      "cell_type": "code",
      "source": [
        "pip install tensorflow gradio numpy matplotlib"
      ],
      "metadata": {
        "id": "gg-y7uMRmHrE"
      },
      "execution_count": null,
      "outputs": []
    },
    {
      "cell_type": "code",
      "source": [],
      "metadata": {
        "id": "8RbcfiHnmIXj"
      },
      "execution_count": null,
      "outputs": []
    },
    {
      "cell_type": "code",
      "source": [
        "import tensorflow as tf\n",
        "from tensorflow import keras\n",
        "import numpy as np\n",
        "import matplotlib.pyplot as plt\n",
        "import gradio as gr\n",
        "\n",
        "# Load MNIST dataset\n",
        "mnist = keras.datasets.mnist\n",
        "(X_train, y_train), (X_test, y_test) = mnist.load_data()\n",
        "\n",
        "# Normalize the data (scale pixel values between 0 and 1)\n",
        "X_train, X_test = X_train / 255.0, X_test / 255.0\n",
        "\n",
        "# Build the neural network model\n",
        "model = keras.Sequential([\n",
        "    keras.layers.Flatten(input_shape=(28, 28)),  # Convert 28x28 images into a flat array\n",
        "    keras.layers.Dense(128, activation='relu'),\n",
        "    keras.layers.Dense(10, activation='softmax')  # Output layer for 10 digits (0-9)\n",
        "])\n",
        "\n",
        "# Compile and train the model\n",
        "model.compile(optimizer='adam', loss='sparse_categorical_crossentropy', metrics=['accuracy'])\n",
        "model.fit(X_train, y_train, epochs=5, validation_data=(X_test, y_test))\n",
        "\n",
        "# Prediction function for Gradio with input validation\n",
        "def predict_digit(image):\n",
        "    image = np.array(image)\n",
        "\n",
        "    # Ensure image is grayscale (in case extra color channels exist)\n",
        "    if len(image.shape) == 3:  # If it has an extra dimension (color channels), remove them\n",
        "        image = image[:, :, 0]  # Keep only the first channel (grayscale)\n",
        "\n",
        "    # Ensure the image is 28x28, otherwise resize\n",
        "from PIL import Image\n",
        "\n",
        "def predict_digit(image):\n",
        "    image = Image.fromarray(np.array(image))  # Convert to PIL Image\n",
        "    image = image.resize((28, 28))  # Resize to 28x28 pixels\n",
        "\n",
        "    image = np.array(image)  # Convert back to NumPy array\n",
        "\n",
        "    # Ensure grayscale (remove extra channels if needed)\n",
        "    if len(image.shape) == 3:\n",
        "        image = image[:, :, 0]  # Keep only the first channel\n",
        "\n",
        "    image = image.reshape(1, 28, 28) / 255.0  # Normalize\n",
        "    prediction = model.predict(image)\n",
        "\n",
        "    return f\"Predicted Digit: {np.argmax(prediction)}\"\n",
        "\n",
        "    # Normalize and reshape for the model\n",
        "    image = image.reshape(1, 28, 28) / 255.0\n",
        "    prediction = model.predict(image)\n",
        "\n",
        "    return f\"Predicted Digit: {np.argmax(prediction)}\"\n",
        "\n",
        "# Gradio interface\n",
        "interface = gr.Interface(\n",
        "    fn=predict_digit,\n",
        "    inputs=gr.Image(image_mode=\"L\", sources=[\"upload\", \"webcam\", \"clipboard\"]),\n",
        "    outputs=gr.Text(label=\"Prediction\"),\n",
        "    title=\"Handwritten Digit Classifier\",\n",
        "    description=\"Upload or capture a 28x28 grayscale image of a digit (0-9), and the neural network will predict it!\"\n",
        ")\n",
        "\n",
        "interface.launch()"
      ],
      "metadata": {
        "colab": {
          "base_uri": "https://localhost:8080/",
          "height": 867
        },
        "id": "74lqGCpCUAEf",
        "outputId": "c0022f48-120d-4b83-e940-ea74c5f1e72d"
      },
      "execution_count": null,
      "outputs": [
        {
          "output_type": "stream",
          "name": "stderr",
          "text": [
            "/usr/local/lib/python3.11/dist-packages/keras/src/layers/reshaping/flatten.py:37: UserWarning: Do not pass an `input_shape`/`input_dim` argument to a layer. When using Sequential models, prefer using an `Input(shape)` object as the first layer in the model instead.\n",
            "  super().__init__(**kwargs)\n"
          ]
        },
        {
          "output_type": "stream",
          "name": "stdout",
          "text": [
            "Epoch 1/5\n",
            "\u001b[1m1875/1875\u001b[0m \u001b[32m━━━━━━━━━━━━━━━━━━━━\u001b[0m\u001b[37m\u001b[0m \u001b[1m6s\u001b[0m 3ms/step - accuracy: 0.8779 - loss: 0.4388 - val_accuracy: 0.9598 - val_loss: 0.1358\n",
            "Epoch 2/5\n",
            "\u001b[1m1875/1875\u001b[0m \u001b[32m━━━━━━━━━━━━━━━━━━━━\u001b[0m\u001b[37m\u001b[0m \u001b[1m6s\u001b[0m 3ms/step - accuracy: 0.9657 - loss: 0.1163 - val_accuracy: 0.9713 - val_loss: 0.0955\n",
            "Epoch 3/5\n",
            "\u001b[1m1875/1875\u001b[0m \u001b[32m━━━━━━━━━━━━━━━━━━━━\u001b[0m\u001b[37m\u001b[0m \u001b[1m5s\u001b[0m 2ms/step - accuracy: 0.9763 - loss: 0.0790 - val_accuracy: 0.9748 - val_loss: 0.0795\n",
            "Epoch 4/5\n",
            "\u001b[1m1875/1875\u001b[0m \u001b[32m━━━━━━━━━━━━━━━━━━━━\u001b[0m\u001b[37m\u001b[0m \u001b[1m6s\u001b[0m 3ms/step - accuracy: 0.9822 - loss: 0.0585 - val_accuracy: 0.9766 - val_loss: 0.0764\n",
            "Epoch 5/5\n",
            "\u001b[1m1875/1875\u001b[0m \u001b[32m━━━━━━━━━━━━━━━━━━━━\u001b[0m\u001b[37m\u001b[0m \u001b[1m5s\u001b[0m 2ms/step - accuracy: 0.9873 - loss: 0.0415 - val_accuracy: 0.9746 - val_loss: 0.0817\n",
            "It looks like you are running Gradio on a hosted a Jupyter notebook. For the Gradio app to work, sharing must be enabled. Automatically setting `share=True` (you can turn this off by setting `share=False` in `launch()` explicitly).\n",
            "\n",
            "Colab notebook detected. To show errors in colab notebook, set debug=True in launch()\n",
            "* Running on public URL: https://dbe28180f584be7995.gradio.live\n",
            "\n",
            "This share link expires in 1 week. For free permanent hosting and GPU upgrades, run `gradio deploy` from the terminal in the working directory to deploy to Hugging Face Spaces (https://huggingface.co/spaces)\n"
          ]
        },
        {
          "output_type": "display_data",
          "data": {
            "text/plain": [
              "<IPython.core.display.HTML object>"
            ],
            "text/html": [
              "<div><iframe src=\"https://dbe28180f584be7995.gradio.live\" width=\"100%\" height=\"500\" allow=\"autoplay; camera; microphone; clipboard-read; clipboard-write;\" frameborder=\"0\" allowfullscreen></iframe></div>"
            ]
          },
          "metadata": {}
        },
        {
          "output_type": "execute_result",
          "data": {
            "text/plain": []
          },
          "metadata": {},
          "execution_count": 6
        }
      ]
    }
  ]
}